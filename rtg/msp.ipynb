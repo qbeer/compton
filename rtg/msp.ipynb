{
 "cells": [
  {
   "cell_type": "code",
   "execution_count": 54,
   "metadata": {},
   "outputs": [
    {
     "name": "stdout",
     "output_type": "stream",
     "text": [
      "Populating the interactive namespace from numpy and matplotlib\n"
     ]
    }
   ],
   "source": [
    "%pylab inline"
   ]
  },
  {
   "cell_type": "code",
   "execution_count": 55,
   "metadata": {},
   "outputs": [
    {
     "name": "stdout",
     "output_type": "stream",
     "text": [
      "$d_{hkl}$ [2.91219205e-10 2.05789224e-10 1.68080399e-10 1.45474991e-10\n",
      " 1.30216696e-10 1.18822248e-10 1.02850615e-10 9.69753413e-11\n",
      " 9.20237288e-11 8.77201853e-11 8.39984870e-11]\n"
     ]
    }
   ],
   "source": [
    "theta = np.array([30.7,44.0,54.6,64.0,72.6,80.9,97.1,105.3,113.8,123.0,133.2])/2.\n",
    "dhkl = 0.15418*10**(-9)/(2*np.sin((theta/180.)*np.pi))\n",
    "print('$d_{hkl}$', dhkl)"
   ]
  },
  {
   "cell_type": "code",
   "execution_count": 56,
   "metadata": {},
   "outputs": [
    {
     "name": "stdout",
     "output_type": "stream",
     "text": [
      "$\f",
      "rac{1}{d_{hkl}^{2}}$ [1.17912535e+19 2.36131944e+19 3.53969515e+19 4.72523404e+19\n",
      " 5.89748246e+19 7.08279166e+19 9.45336038e+19 1.06335277e+20\n",
      " 1.18086526e+20 1.29957372e+20 1.41728462e+20]\n"
     ]
    }
   ],
   "source": [
    "onePerdhlSqr = 1/dhkl**2\n",
    "print('$\\frac{1}{d_{hkl}^{2}}$', onePerdhlSqr)"
   ]
  },
  {
   "cell_type": "code",
   "execution_count": 57,
   "metadata": {},
   "outputs": [
    {
     "name": "stdout",
     "output_type": "stream",
     "text": [
      "N [ 1.          2.00260256  3.0019668   4.00740604  5.00157381  6.00681825\n",
      "  8.01726499  9.01814867 10.01475595 11.02150604 12.019796  ]\n"
     ]
    }
   ],
   "source": [
    "print('N', onePerdhlSqr/onePerdhlSqr[0])"
   ]
  },
  {
   "cell_type": "code",
   "execution_count": 58,
   "metadata": {},
   "outputs": [
    {
     "name": "stdout",
     "output_type": "stream",
     "text": [
      "$d_{hkl}$ [2.35000111e-10 2.03505635e-10 1.43970118e-10 1.22815136e-10\n",
      " 1.17563692e-10 1.01852207e-10 9.34575013e-11 9.11221661e-11\n",
      " 8.31736003e-11]\n"
     ]
    }
   ],
   "source": [
    "theta2 = np.array([38.3, 44.52, 64.75, 77.76, 81.95, 98.38, 111.15, 115.56, 135.9])/2.\n",
    "dhkl2 = 0.15418*10**(-9)/(2*np.sin((theta2/180.)*np.pi))\n",
    "print('$d_{hkl}$', dhkl2)"
   ]
  },
  {
   "cell_type": "code",
   "execution_count": 59,
   "metadata": {},
   "outputs": [
    {
     "name": "stdout",
     "output_type": "stream",
     "text": [
      "[4.07032133e-10 4.07011271e-10 4.07208988e-10 4.07331725e-10\n",
      " 4.07252575e-10 4.07408826e-10 4.07371804e-10 4.07510715e-10\n",
      " 4.07465761e-10] 4.0728819973929836e-10 2.825333310977504e-26\n"
     ]
    }
   ],
   "source": [
    "N = np.array([3., 4., 8.,11.,12.,16., 19., 20., 24. ])\n",
    "ahkl = np.sqrt(N*dhkl2**2)\n",
    "print(ahkl, np.average(ahkl), np.var(ahkl))"
   ]
  },
  {
   "cell_type": "code",
   "execution_count": 60,
   "metadata": {},
   "outputs": [
    {
     "name": "stdout",
     "output_type": "stream",
     "text": [
      "Tengelymetszet, hiba:  [-9.54178704e-14  4.07485851e-10] [1.12835101e-14 3.01025115e-14]\n"
     ]
    },
    {
     "data": {
      "image/png": "[encoded data removed]",
      "text/plain": [
       "<matplotlib.figure.Figure at 0x7fa8c4239cf8>"
      ]
     },
     "metadata": {},
     "output_type": "display_data"
    }
   ],
   "source": [
    "def hocuspocus(theta):\n",
    "    thetan = np.radians(theta)\n",
    "    return np.cos(thetan)*(1/np.tan(thetan) + np.cos(thetan)/thetan)\n",
    "\n",
    "plt.plot(hocuspocus(theta2), ahkl,'b*')\n",
    "\n",
    "from scipy.optimize import curve_fit \n",
    "\n",
    "def egyenes(x, m, b):\n",
    "    return m*x + b\n",
    "\n",
    "popt, pcov = curve_fit(egyenes, hocuspocus(theta2), ahkl)\n",
    "perr = sqrt(diag(pcov))\n",
    "\n",
    "plt.plot(hocuspocus(theta2), egyenes(hocuspocus(theta2), *popt))\n",
    "\n",
    "plt.rc('text', usetex=True)\n",
    "plt.rc('font', family='serif')\n",
    "xlabel('$\\cos(\\Theta)(ctg(\\Theta) + \\cos(\\Theta)/\\Theta))$')\n",
    "\n",
    "print('Tengelymetszet, hiba: ',popt, perr)"
   ]
  },
  {
   "cell_type": "code",
   "execution_count": 61,
   "metadata": {},
   "outputs": [
    {
     "name": "stdout",
     "output_type": "stream",
     "text": [
      "[2.06476207e-10 1.26279737e-10 1.07648755e-10 8.92124840e-11\n",
      " 8.18249184e-11]\n"
     ]
    }
   ],
   "source": [
    "theta3 = np.array([43.846, 75.247, 91.471, 119.564, 140.826])/2.\n",
    "dhkl3 = 0.15418*10**(-9)/(2*np.sin((theta3/180.)*np.pi))\n",
    "print(dhkl3)"
   ]
  },
  {
   "cell_type": "code",
   "execution_count": 66,
   "metadata": {},
   "outputs": [
    {
     "name": "stdout",
     "output_type": "stream",
     "text": [
      "Félértékszélesség 0.2985\n",
      "5.806797484981999e-08\n"
     ]
    }
   ],
   "source": [
    "print('Félértékszélesség', 0.2985)\n",
    "betaF = np.sqrt((0.2985**2-0.1**2))*np.pi/180.\n",
    "atlSzemcsemeret = 4*0.15418*10**(-9)/(3*betaF*cos(43.846*np.pi/180))\n",
    "print(atlSzemcsemeret)"
   ]
  }
 ],
 "metadata": {
  "kernelspec": {
   "display_name": "Python 3",
   "language": "python",
   "name": "python3"
  },
  "language_info": {
   "codemirror_mode": {
    "name": "ipython",
    "version": 3
   },
   "file_extension": ".py",
   "mimetype": "text/x-python",
   "name": "python",
   "nbconvert_exporter": "python",
   "pygments_lexer": "ipython3",
   "version": "3.6.4"
  }
 },
 "nbformat": 4,
 "nbformat_minor": 2
}
