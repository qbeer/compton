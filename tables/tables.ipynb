{
 "cells": [
  {
   "cell_type": "markdown",
   "metadata": {},
   "source": [
    "Táblázat\n",
    "\n",
    "|szög($^{\\circ}$)|csúcs|szórás|terület|csúcs hiba|szórás hiba|terület hiba|idő(s)|\n",
    "|:------:|---:|-----:|------:|------:|-----:|-----:|------:|------:|--:|\n",
    "|30|8.9730e+01|3.2288e+00|1.6578e+02|3.7380e-01|2.2815e-01|1.1956e+01|1224|\n",
    "|40|8.2305e+01|3.1082e+00|1.7328e+02|3.6105e-01|4.3538e-01|3.4751e+01|1085|\n",
    "|50|\n",
    "\n"
   ]
  },
  {
   "cell_type": "code",
   "execution_count": null,
   "metadata": {},
   "outputs": [],
   "source": []
  }
 ],
 "metadata": {
  "kernelspec": {
   "display_name": "Python 3",
   "language": "python",
   "name": "python3"
  },
  "language_info": {
   "codemirror_mode": {
    "name": "ipython",
    "version": 3
   },
   "file_extension": ".py",
   "mimetype": "text/x-python",
   "name": "python",
   "nbconvert_exporter": "python",
   "pygments_lexer": "ipython3",
   "version": "3.6.4"
  }
 },
 "nbformat": 4,
 "nbformat_minor": 2
}
