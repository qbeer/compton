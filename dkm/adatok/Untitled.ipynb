{
 "cells": [
  {
   "cell_type": "markdown",
   "metadata": {},
   "source": [
    "***Dinamikus keménység mérés jegyzőkönyvöh a kiértékelés"
   ]
  },
  {
   "cell_type": "code",
   "execution_count": 147,
   "metadata": {},
   "outputs": [
    {
     "name": "stdout",
     "output_type": "stream",
     "text": [
      "Populating the interactive namespace from numpy and matplotlib\n"
     ]
    },
    {
     "name": "stderr",
     "output_type": "stream",
     "text": [
      "/home/qbeer666/anaconda3/lib/python3.6/site-packages/IPython/core/magics/pylab.py:160: UserWarning: pylab import has clobbered these variables: ['f', 'cov']\n",
      "`%matplotlib` prevents importing * from pylab and numpy\n",
      "  \"\\n`%matplotlib` prevents importing * from pylab and numpy\"\n"
     ]
    }
   ],
   "source": [
    "%pylab inline"
   ]
  },
  {
   "cell_type": "code",
   "execution_count": 148,
   "metadata": {},
   "outputs": [],
   "source": [
    "import numpy as np\n",
    "from scipy.optimize import curve_fit\n"
   ]
  },
  {
   "cell_type": "code",
   "execution_count": 149,
   "metadata": {},
   "outputs": [
    {
     "data": {
      "text/plain": [
       "502"
      ]
     },
     "execution_count": 149,
     "metadata": {},
     "output_type": "execute_result"
    },
    {
     "data": {
      "image/png": "[encoded data removed]",
      "text/plain": [
       "<matplotlib.figure.Figure at 0x7f93cd2e8080>"
      ]
     },
     "metadata": {},
     "output_type": "display_data"
    }
   ],
   "source": [
    "#Adatok betöltése\n",
    "filenames=np.loadtxt(\"Filenames.txt\",dtype=str)\n",
    "Mg145=np.loadtxt(filenames[0]+\"_mas\"+\".dat\")\n",
    "plot(Mg145[:,2],Mg145[:,1])\n",
    "len(Mg145[:,1])"
   ]
  },
  {
   "cell_type": "code",
   "execution_count": 150,
   "metadata": {},
   "outputs": [],
   "source": [
    "for names in filenames:\n",
    "    f=open(names+\".dat\", encoding=\"ISO-8859-1\")\n",
    "    lines=f.readlines()\n",
    "    f.close()\n",
    "    f=open(names+\"_mas.dat\",\"w\")\n",
    "    i=0\n",
    "    for line in lines:\n",
    "        if(i>10):\n",
    "            f.write(line)\n",
    "        else:\n",
    "            i=i+1"
   ]
  },
  {
   "cell_type": "code",
   "execution_count": 151,
   "metadata": {},
   "outputs": [],
   "source": [
    "Mg145_735=np.loadtxt(filenames[0]+\"_mas.dat\")\n",
    "Mg145_736=np.loadtxt(filenames[1]+\"_mas.dat\")\n",
    "Al_739=np.loadtxt(filenames[2]+\"_mas.dat\")\n",
    "Al_740=np.loadtxt(filenames[3]+\"_mas.dat\")\n",
    "Cu_741=np.loadtxt(filenames[4]+\"_mas.dat\")\n",
    "Cu_742=np.loadtxt(filenames[5]+\"_mas.dat\")\n",
    "Ni_743=np.loadtxt(filenames[6]+\"_mas.dat\")\n",
    "Ni_744=np.loadtxt(filenames[7]+\"_mas.dat\")\n",
    "Ag_745=np.loadtxt(filenames[8]+\"_mas.dat\")\n",
    "AG_746=np.loadtxt(filenames[9]+\"_mas.dat\")\n",
    "Acel_747=np.loadtxt(filenames[10]+\"_mas.dat\")\n",
    "Acel_748=np.loadtxt(filenames[11]+\"_mas.dat\")\n",
    "Acel_749=np.loadtxt(filenames[12]+\"_mas.dat\")\n",
    "Mg_047_750=np.loadtxt(filenames[13]+\"_mas.dat\")\n",
    "Mg_047_751=np.loadtxt(filenames[14]+\"_mas.dat\")\n",
    "Mg_093_752=np.loadtxt(filenames[15]+\"_mas.dat\")\n",
    "Mg_093_753=np.loadtxt(filenames[16]+\"_mas.dat\")\n",
    "Mg_125_754=np.loadtxt(filenames[17]+\"_mas.dat\")\n",
    "Mg_125_755=np.loadtxt(filenames[18]+\"_mas.dat\")\n",
    "Mg_27_756=np.loadtxt(filenames[19]+\"_mas.dat\")\n",
    "Mg_27_757=np.loadtxt(filenames[20]+\"_mas.dat\")\n",
    "Mg_45_758=np.loadtxt(filenames[21]+\"_mas.dat\")\n",
    "Mg_45_759=np.loadtxt(filenames[22]+\"_mas.dat\")\n",
    "Mg_73_760=np.loadtxt(filenames[23]+\"_mas.dat\")\n",
    "Mg_73_761=np.loadtxt(filenames[24]+\"_mas.dat\")\n",
    "datas=[]\n",
    "for names in filenames:\n",
    "    datas.append(np.loadtxt(names+\"_mas.dat\"))"
   ]
  },
  {
   "cell_type": "code",
   "execution_count": 152,
   "metadata": {},
   "outputs": [
    {
     "name": "stdout",
     "output_type": "stream",
     "text": [
      "[190.952836, 190.884366, 191.124398, 191.038262, 191.151113, 192.091123, 191.041747, 191.97345, 191.092024, 191.319572, 191.009391, 191.994008, 191.014047, 192.067516, 191.073705, 190.980449, 191.00571, 191.931346, 191.963387, 190.938541, 191.960641, 191.973882, 190.951555, 191.059627, 191.943054]\n"
     ]
    }
   ],
   "source": [
    "Fmax=[]\n",
    "hmax=[]\n",
    "ind=0\n",
    "for i in range(len(filenames)):\n",
    "    Fmax.append(max(datas[i][:,1]))\n",
    "    ind=np.argmax(datas[i][:,1])\n",
    "    hmax.append(datas[i][ind,2])\n",
    "print(Fmax)"
   ]
  },
  {
   "cell_type": "code",
   "execution_count": 153,
   "metadata": {},
   "outputs": [],
   "source": [
    "def lin(x,a,b):\n",
    "    return a*x+b"
   ]
  },
  {
   "cell_type": "code",
   "execution_count": 154,
   "metadata": {},
   "outputs": [
    {
     "data": {
      "text/plain": [
       "25"
      ]
     },
     "execution_count": 154,
     "metadata": {},
     "output_type": "execute_result"
    }
   ],
   "source": [
    "len(filenames)"
   ]
  },
  {
   "cell_type": "code",
   "execution_count": 155,
   "metadata": {},
   "outputs": [
    {
     "data": {
      "text/plain": [
       "[3.420276,\n",
       " 3.542633,\n",
       " 5.096155,\n",
       " 5.276184,\n",
       " 2.237624,\n",
       " 2.228297,\n",
       " 1.629192,\n",
       " 1.578153,\n",
       " 3.301091,\n",
       " 3.294864,\n",
       " 2.564335,\n",
       " 2.255657,\n",
       " 2.271523,\n",
       " 4.122493,\n",
       " 4.189691,\n",
       " 4.065075,\n",
       " 4.046753,\n",
       " 3.817729,\n",
       " 3.667721,\n",
       " 3.458524,\n",
       " 3.373293,\n",
       " 2.927089,\n",
       " 2.829453,\n",
       " 2.488242,\n",
       " 2.47949]"
      ]
     },
     "execution_count": 155,
     "metadata": {},
     "output_type": "execute_result"
    }
   ],
   "source": [
    "hmax\n"
   ]
  },
  {
   "cell_type": "code",
   "execution_count": 156,
   "metadata": {},
   "outputs": [],
   "source": [
    "num=5\n"
   ]
  },
  {
   "cell_type": "code",
   "execution_count": 157,
   "metadata": {},
   "outputs": [
    {
     "data": {
      "text/plain": [
       "[<matplotlib.lines.Line2D at 0x7f93c545a668>]"
      ]
     },
     "execution_count": 157,
     "metadata": {},
     "output_type": "execute_result"
    },
    {
     "data": {
      "image/png": "[encoded data removed]",
      "text/plain": [
       "<matplotlib.figure.Figure at 0x7f93c53904a8>"
      ]
     },
     "metadata": {},
     "output_type": "display_data"
    }
   ],
   "source": [
    "plot(datas[num][:,2],datas[num][:,1])"
   ]
  },
  {
   "cell_type": "code",
   "execution_count": 158,
   "metadata": {},
   "outputs": [
    {
     "data": {
      "text/plain": [
       "[<matplotlib.lines.Line2D at 0x7f93c5281ef0>]"
      ]
     },
     "execution_count": 158,
     "metadata": {},
     "output_type": "execute_result"
    },
    {
     "data": {
      "image/png": "[encoded data removed]",
      "text/plain": [
       "<matplotlib.figure.Figure at 0x7f93c56252b0>"
      ]
     },
     "metadata": {},
     "output_type": "display_data"
    }
   ],
   "source": [
    "fo=270\n",
    "to=320\n",
    "plot(datas[num][fo:to,2],datas[num][fo:to,1])"
   ]
  },
  {
   "cell_type": "code",
   "execution_count": 159,
   "metadata": {},
   "outputs": [
    {
     "data": {
      "text/plain": [
       "[<matplotlib.lines.Line2D at 0x7f93c51ec128>,\n",
       " <matplotlib.lines.Line2D at 0x7f93c51ec278>]"
      ]
     },
     "execution_count": 159,
     "metadata": {},
     "output_type": "execute_result"
    },
    {
     "data": {
      "image/png": "[encoded data removed]",
      "text/plain": [
       "<matplotlib.figure.Figure at 0x7f93c541be80>"
      ]
     },
     "metadata": {},
     "output_type": "display_data"
    }
   ],
   "source": [
    "plot(datas[num][:,2],datas[num][:,1],datas[num][fo:to,2],datas[num][fo:to,1])"
   ]
  },
  {
   "cell_type": "code",
   "execution_count": 160,
   "metadata": {},
   "outputs": [
    {
     "data": {
      "text/plain": [
       "(array([ 1268.2716216 , -2642.30245552]), array([ 6.06608694, 13.37987072]))"
      ]
     },
     "execution_count": 160,
     "metadata": {},
     "output_type": "execute_result"
    }
   ],
   "source": [
    "popt ,cov = curve_fit(lin,datas[num][fo:to,2],datas[num][fo:to,1])\n",
    "err=sqrt(diag(cov))\n",
    "popt,err"
   ]
  },
  {
   "cell_type": "code",
   "execution_count": 161,
   "metadata": {},
   "outputs": [],
   "source": [
    "mered=loadtxt(\"egyenes_adatok.txt\",dtype=str)"
   ]
  },
  {
   "cell_type": "code",
   "execution_count": 162,
   "metadata": {},
   "outputs": [
    {
     "data": {
      "text/plain": [
       "[190.952836,\n",
       " 190.884366,\n",
       " 191.124398,\n",
       " 191.038262,\n",
       " 191.151113,\n",
       " 192.091123,\n",
       " 191.041747,\n",
       " 191.97345,\n",
       " 191.092024,\n",
       " 191.319572,\n",
       " 191.009391,\n",
       " 191.994008,\n",
       " 191.014047,\n",
       " 192.067516,\n",
       " 191.073705,\n",
       " 190.980449,\n",
       " 191.00571,\n",
       " 191.931346,\n",
       " 191.963387,\n",
       " 190.938541,\n",
       " 191.960641,\n",
       " 191.973882,\n",
       " 190.951555,\n",
       " 191.059627,\n",
       " 191.943054]"
      ]
     },
     "execution_count": 162,
     "metadata": {},
     "output_type": "execute_result"
    }
   ],
   "source": [
    "hmax\n",
    "Fmax"
   ]
  },
  {
   "cell_type": "code",
   "execution_count": 163,
   "metadata": {},
   "outputs": [],
   "source": [
    "f=open(\"adatok.txt\",\"w\")\n",
    "#f.write(\"Filenev/anyagnev meredekség meredekség hibaja Fmax hmax \\n\")"
   ]
  },
  {
   "cell_type": "code",
   "execution_count": 164,
   "metadata": {},
   "outputs": [
    {
     "data": {
      "text/plain": [
       "25"
      ]
     },
     "execution_count": 164,
     "metadata": {},
     "output_type": "execute_result"
    }
   ],
   "source": [
    "len(hmax)"
   ]
  },
  {
   "cell_type": "code",
   "execution_count": 165,
   "metadata": {},
   "outputs": [],
   "source": [
    "i=0\n",
    "j=0\n",
    "for i in range(len(hmax)):\n",
    "        f.write(str(mered[i][0])+\" \"+str(mered[i][1])+\" \"+str(mered[i][2])+\" \"+ str(Fmax[i])+\" \"+ str(hmax[i])+\"\\n\")\n"
   ]
  },
  {
   "cell_type": "code",
   "execution_count": 166,
   "metadata": {},
   "outputs": [],
   "source": [
    "f.close()"
   ]
  },
  {
   "cell_type": "code",
   "execution_count": 167,
   "metadata": {},
   "outputs": [
    {
     "name": "stdout",
     "output_type": "stream",
     "text": [
      "h_{C}:  [1.09555269e-13 1.24941309e-13 1.12351695e-13 1.21233996e-13\n",
      " 9.32166187e-14 1.13594233e-13 1.04286556e-13 1.22751959e-13\n",
      " 9.18694887e-14 1.09887019e-13 1.67431771e-13 1.69885517e-13\n",
      " 1.96140086e-13 8.94140541e-14 1.24953316e-13 1.70447061e-13\n",
      " 1.71394756e-13 8.86873049e-14 1.06520342e-13 7.34142031e-14\n",
      " 1.23728780e-13 9.32669198e-14 1.16191172e-13 1.62702691e-13\n",
      " 1.58246952e-13] \n",
      " err h_{C}:  [8.07654742e-16 5.37079749e-16 5.41498724e-16 4.53557610e-16\n",
      " 7.83245401e-16 5.43316181e-16 3.99291425e-16 1.15530184e-15\n",
      " 7.36369042e-16 1.12943804e-15 1.16365369e-15 1.16096255e-15\n",
      " 7.61980076e-16 1.74410335e-15 8.53484648e-16 1.14636481e-15\n",
      " 7.18748798e-16 1.25894611e-15 6.51681816e-16 8.50426791e-16\n",
      " 7.24023144e-16 6.26944075e-16 5.19073049e-16 8.11835964e-16\n",
      " 4.74950062e-16]\n"
     ]
    }
   ],
   "source": [
    "nev = np.array(mered.T[0])\n",
    "meredekseg = np.array(list(map(float, mered.T[1])))*10**3\n",
    "meredeksegHiba = np.array(list(map(float, mered.T[2])))*10**3\n",
    "fMax = np.array(Fmax)*10**(-3)\n",
    "hMax = np.array(hmax)\n",
    "\n",
    "hC = hMax - 0.75*fMax/meredekseg\n",
    "hC = hC*10**(-6) \n",
    "hCHiba = 0.75*(fMax/(meredekseg**2)) * meredeksegHiba\n",
    "hCHiba = hCHiba*10**(-6)\n",
    "\n",
    "print('h_{C}: ', hMax*10**-6 - hC,'\\n', 'err h_{C}: ',hCHiba)"
   ]
  },
  {
   "cell_type": "code",
   "execution_count": 168,
   "metadata": {},
   "outputs": [
    {
     "name": "stdout",
     "output_type": "stream",
     "text": [
      "A:  [2.86608036e-10 3.07481068e-10 6.36284469e-10 6.82033850e-10\n",
      " 1.22670538e-10 1.21650022e-10 6.50295227e-11 6.10188793e-11\n",
      " 2.66981429e-10 2.65975137e-10 1.61107422e-10 1.24655700e-10\n",
      " 1.26415488e-10 4.16376221e-10 4.30060986e-10 4.04858418e-10\n",
      " 4.01217107e-10 3.57088824e-10 3.29578326e-10 2.93054000e-10\n",
      " 2.78788068e-10 2.09912312e-10 1.96142189e-10 1.51688012e-10\n",
      " 1.50622812e-10] \n",
      " err A:  [1.35357700e-19 9.32311424e-20 1.35218507e-19 1.17259614e-19\n",
      " 8.58778230e-20 5.93228180e-20 3.18755953e-20 8.93389031e-20\n",
      " 1.19110236e-19 1.82345887e-19 1.46215887e-19 1.28317922e-19\n",
      " 8.48119009e-20 3.52312631e-19 1.75216005e-19 2.28342877e-19\n",
      " 1.42521338e-19 2.35509434e-19 1.17119164e-19 1.44119849e-19\n",
      " 1.19674764e-19 8.99209313e-20 7.19659441e-20 9.89821663e-20\n",
      " 5.77040588e-20]\n"
     ]
    }
   ],
   "source": [
    "felulet = 24.5*hC*hC\n",
    "feluletHiba = 24.5*2*hCHiba*hC\n",
    "\n",
    "print('A: ', felulet,'\\n', 'err A: ',feluletHiba)"
   ]
  },
  {
   "cell_type": "code",
   "execution_count": 169,
   "metadata": {},
   "outputs": [
    {
     "name": "stdout",
     "output_type": "stream",
     "text": [
      "E_{r}:  [6.76198736e+10 5.72243419e+10 4.42931462e+10 3.96295065e+10\n",
      " 1.21601531e+11 1.00697945e+11 1.49200530e+11 1.31494114e+11\n",
      " 8.36096543e+10 7.01161692e+10 5.90316289e+10 6.64815201e+10\n",
      " 5.68885014e+10 6.91402375e+10 4.84299261e+10 3.65740874e+10\n",
      " 3.65413670e+10 7.52180410e+10 6.51976919e+10 9.97850261e+10\n",
      " 6.10281298e+10 9.33085087e+10 7.70708684e+10 6.26216129e+10\n",
      " 6.49108598e+10] \n",
      " err E_{r}:  [4.98501902e+08 2.45987770e+08 2.13478590e+08 1.48260920e+08\n",
      " 1.02174738e+09 4.81633782e+08 5.71257605e+08 1.23758009e+09\n",
      " 6.70163298e+08 7.20666256e+08 4.10270810e+08 4.54320949e+08\n",
      " 2.21004802e+08 1.34864389e+09 3.30797120e+08 2.45983971e+08\n",
      " 1.53237258e+08 1.06774537e+09 3.98873568e+08 1.15590518e+09\n",
      " 3.57118019e+08 6.27223617e+08 3.44306789e+08 3.12462404e+08\n",
      " 1.94818380e+08]\n"
     ]
    }
   ],
   "source": [
    "redukaltModulus = np.sqrt(np.pi)*meredekseg/(2*1.012*np.sqrt(felulet))\n",
    "redukaltModulusHiba = np.sqrt(np.pi)/(2*1.012)*(meredeksegHiba/np.sqrt(felulet) - 1/2*(meredekseg/np.sqrt(felulet)**3)*feluletHiba)\n",
    "\n",
    "print('E_{r}: ', redukaltModulus,'\\n', 'err E_{r}: ', redukaltModulusHiba)"
   ]
  },
  {
   "cell_type": "code",
   "execution_count": 170,
   "metadata": {},
   "outputs": [
    {
     "name": "stdout",
     "output_type": "stream",
     "text": [
      "Al - Mg 1.45% 64.664 0.508\n",
      "Al -Mg 1.45% 54.178 0.246\n",
      "Al 40.495 0.203\n",
      "Al 36.072 0.14\n",
      "Cu 119.942 1.133\n",
      "Cu 97.25 0.512\n",
      "Ni 157.037 0.695\n",
      "Ni 135.875 1.452\n",
      "Ag 79.392 0.689\n",
      "Ag 65.708 0.721\n",
      "acél 57.483 0.422\n",
      "acél 65.204 0.474\n",
      "acél 55.283 0.226\n",
      "Al- 0.47% Mg 64.732 1.347\n",
      "Al- 0.47% Mg 44.451 0.318\n",
      "Al- 0.93% Mg 33.196 0.231\n",
      "Al- 0.93% Mg 33.165 0.144\n",
      "Al- 1.25% Mg 70.84 1.079\n",
      "Al- 1.25% Mg 60.809 0.395\n",
      "Al- 2.7% Mg 96.281 1.226\n",
      "Al- 2.7% Mg 56.692 0.351\n",
      "Al- 4.5% Mg 89.453 0.657\n",
      "Al- 4.5% Mg 72.716 0.349\n",
      "Al- 7.3% Mg 58.262 0.308\n",
      "Al- 7.3% Mg 60.525 0.193\n"
     ]
    }
   ],
   "source": [
    "def youngModulus(nu, E_r, errE_r):\n",
    "    szamlalo = 1- nu**2\n",
    "    nevezo = 1/E_r - (1-0.17**2)/(1070*10**9)\n",
    "    return np.array([round(szamlalo/nevezo*10**(-9), 3), round(10**(-9)*(szamlalo/nevezo**2)*(1/E_r**2)*errE_r, 3)])\n",
    "\n",
    "nev = []\n",
    "young = []\n",
    "youngHiba = []\n",
    "\n",
    "E, errE = youngModulus(0.32, redukaltModulus[0], redukaltModulusHiba[0])\n",
    "print('Al - Mg 1.45%', E, errE)\n",
    "temp = E, errE\n",
    "E, errE = youngModulus(0.32, redukaltModulus[1], redukaltModulusHiba[1])\n",
    "print( 'Al -Mg 1.45%', E, errE)\n",
    "nev.append('Al - Mg 1.45%')\n",
    "young.append((temp[0]+E)/2)\n",
    "youngHiba.append(np.sqrt(temp[1]**2+errE))\n",
    "\n",
    "E, errE = youngModulus(0.35, redukaltModulus[2], redukaltModulusHiba[2])\n",
    "print('Al', E, errE)\n",
    "temp = E, errE\n",
    "E, errE = youngModulus(0.35, redukaltModulus[3], redukaltModulusHiba[3])\n",
    "print( 'Al', E, errE)\n",
    "nev.append('Al')\n",
    "young.append((temp[0]+E)/2)\n",
    "youngHiba.append(np.sqrt(temp[1]**2+errE**2))\n",
    "\n",
    "E, errE = youngModulus(0.35, redukaltModulus[4], redukaltModulusHiba[4])\n",
    "print( 'Cu', E, errE)\n",
    "temp = E, errE\n",
    "E, errE = youngModulus(0.35, redukaltModulus[5], redukaltModulusHiba[5])\n",
    "print( 'Cu', E, errE)\n",
    "nev.append('Cu')\n",
    "young.append((temp[0]+E)/2)\n",
    "youngHiba.append(np.sqrt(temp[1]**2+errE**2))\n",
    "\n",
    "E, errE = youngModulus(0.3, redukaltModulus[6], redukaltModulusHiba[6])\n",
    "print( 'Ni', E, errE)\n",
    "temp = E, errE\n",
    "E, errE = youngModulus(0.3, redukaltModulus[7], redukaltModulusHiba[7])\n",
    "print( 'Ni', E, errE)\n",
    "nev.append('Ni')\n",
    "young.append((temp[0]+E)/2)\n",
    "youngHiba.append(np.sqrt(temp[1]**2+errE**2))\n",
    "\n",
    "E, errE = youngModulus(0.35, redukaltModulus[8], redukaltModulusHiba[8])\n",
    "print( 'Ag', E, errE)\n",
    "temp = E, errE\n",
    "E, errE = youngModulus(0.35, redukaltModulus[9], redukaltModulusHiba[9])\n",
    "print('Ag', E, errE)\n",
    "nev.append('Ag')\n",
    "young.append((temp[0]+E)/2)\n",
    "youngHiba.append(np.sqrt(temp[1]**2+errE**2))\n",
    "\n",
    "E, errE = youngModulus(0.28, redukaltModulus[10], redukaltModulusHiba[10])\n",
    "print( 'acél', E, errE)\n",
    "temp = E, errE\n",
    "E, errE = youngModulus(0.28, redukaltModulus[11], redukaltModulusHiba[11])\n",
    "print( 'acél', E, errE)\n",
    "temp2 = E, errE\n",
    "E, errE = youngModulus(0.28, redukaltModulus[12], redukaltModulusHiba[12])\n",
    "print( 'acél', E, errE)\n",
    "nev.append('acél')\n",
    "young.append((temp[0]+temp2[0]+E)/3)\n",
    "youngHiba.append(np.sqrt(temp[1]**2+errE**2+temp2[1]**2))\n",
    "\n",
    "E, errE = youngModulus(0.35, redukaltModulus[13], redukaltModulusHiba[13])\n",
    "print( 'Al- 0.47% Mg', E, errE)\n",
    "temp = E, errE\n",
    "E, errE = youngModulus(0.35, redukaltModulus[14], redukaltModulusHiba[14])\n",
    "print('Al- 0.47% Mg', E, errE)\n",
    "nev.append('Al - 0.47% Mg')\n",
    "young.append((temp[0]+E)/2)\n",
    "youngHiba.append(np.sqrt(temp[1]**2+errE**2))\n",
    "\n",
    "E, errE = youngModulus(0.35, redukaltModulus[15], redukaltModulusHiba[15])\n",
    "print( 'Al- 0.93% Mg', E, errE)\n",
    "temp = E, errE\n",
    "E, errE = youngModulus(0.35, redukaltModulus[16], redukaltModulusHiba[16])\n",
    "print( 'Al- 0.93% Mg', E, errE)\n",
    "nev.append('Al - 0.93% Mg')\n",
    "young.append((temp[0]+E)/2)\n",
    "youngHiba.append(np.sqrt(temp[1]**2+errE**2))\n",
    "\n",
    "E, errE = youngModulus(0.35, redukaltModulus[17], redukaltModulusHiba[17])\n",
    "print('Al- 1.25% Mg', E, errE)\n",
    "temp = E, errE\n",
    "E, errE = youngModulus(0.35, redukaltModulus[18], redukaltModulusHiba[18])\n",
    "print( 'Al- 1.25% Mg', E, errE)\n",
    "nev.append('Al - 1.25% Mg')\n",
    "young.append((temp[0]+E)/2)\n",
    "youngHiba.append(np.sqrt(temp[1]**2+errE**2))\n",
    "\n",
    "E, errE = youngModulus(0.35, redukaltModulus[19], redukaltModulusHiba[19])\n",
    "print('Al- 2.7% Mg', E, errE)\n",
    "temp = E, errE\n",
    "E, errE = youngModulus(0.35, redukaltModulus[20], redukaltModulusHiba[20])\n",
    "print( 'Al- 2.7% Mg', E, errE)\n",
    "nev.append('Al - 2.7% Mg')\n",
    "young.append((temp[0]+E)/2)\n",
    "youngHiba.append(np.sqrt(temp[1]**2+errE**2))\n",
    "\n",
    "E, errE = youngModulus(0.35, redukaltModulus[21], redukaltModulusHiba[21])\n",
    "print( 'Al- 4.5% Mg', E, errE)\n",
    "temp = E, errE\n",
    "E, errE = youngModulus(0.35, redukaltModulus[22], redukaltModulusHiba[22])\n",
    "print('Al- 4.5% Mg', E, errE)\n",
    "nev.append('Al - 4.5% Mg')\n",
    "young.append((temp[0]+E)/2)\n",
    "youngHiba.append(np.sqrt(temp[1]**2+errE**2))\n",
    "\n",
    "E, errE = youngModulus(0.35, redukaltModulus[23], redukaltModulusHiba[23])\n",
    "print('Al- 7.3% Mg', E, errE)\n",
    "temp = E, errE\n",
    "E, errE = youngModulus(0.35, redukaltModulus[24], redukaltModulusHiba[24])\n",
    "print('Al- 7.3% Mg', E, errE)\n",
    "nev.append('Al - 7.3% Mg')\n",
    "young.append((temp[0]+E)/2)\n",
    "youngHiba.append(np.sqrt(temp[1]**2+errE**2))"
   ]
  },
  {
   "cell_type": "code",
   "execution_count": 171,
   "metadata": {},
   "outputs": [
    {
     "name": "stdout",
     "output_type": "stream",
     "text": [
      "Al - Mg 1.45% 59.421 0.71\n",
      "Al 38.284 0.247\n",
      "Cu 108.596 1.243\n",
      "Ni 146.456 1.61\n",
      "Ag 72.55 0.997\n",
      "acél 59.323 0.674\n",
      "Al - 0.47% Mg 54.592 1.384\n",
      "Al - 0.93% Mg 33.18 0.272\n",
      "Al - 1.25% Mg 65.824 1.149\n",
      "Al - 2.7% Mg 76.486 1.275\n",
      "Al - 4.5% Mg 81.084 0.744\n",
      "Al - 7.3% Mg 59.394 0.363\n"
     ]
    }
   ],
   "source": [
    "# Young-modolus GPa\n",
    "for i in range(0, len(nev)):\n",
    "    print(nev[i], round(young[i], 3), round(youngHiba[i],3))"
   ]
  },
  {
   "cell_type": "code",
   "execution_count": 172,
   "metadata": {},
   "outputs": [
    {
     "name": "stdout",
     "output_type": "stream",
     "text": [
      "Al - Mg 1.45% 3.48 0.131\n",
      "Al 5.19 0.162\n",
      "Cu 2.235 0.1\n",
      "Ni 1.605 0.106\n",
      "Ag 3.295 0.1\n",
      "acél 2.363 0.1\n",
      "Al - 0.47% Mg 4.155 0.05\n",
      "Al - 0.93% Mg 4.06 0.017\n",
      "Al - 1.25% Mg 3.745 0.107\n",
      "Al - 2.7% Mg 3.415 0.064\n",
      "Al - 4.5% Mg 2.88 0.071\n",
      "Al - 7.3% Mg 2.485 0.012\n"
     ]
    }
   ],
   "source": [
    "hC = np.round(hC * 10**6, 2)\n",
    "hCHiba = np.round(hCHiba * 10**6, 10)\n",
    "# h_c mikro méter\n",
    "for i in range(0, 10, 2):\n",
    "    print(nev[int(i/2)], round(1/2*(hC[i]+hC[i+1]),3), round(np.sqrt( 0.1**2 + 2*(hC[i]-1/2*(hC[i]+hC[i+1]))**2 + hCHiba[i]**2 + hCHiba[i+1]**2),3))\n",
    "print('acél', round(1/3*(hC[10]+hC[11]+hC[12]),3), round(np.sqrt(0.1**2 + hCHiba[10]**2 + 2*(hC[i]-1/2*(hC[i]+hC[i+1]))**2 + hCHiba[i]**2 + hCHiba[11]**2 + hCHiba[12]**2),3))\n",
    "for i in range(13, 25, 2):\n",
    "    print(nev[int(i/2)], round(1/2*(hC[i]+hC[i+1]),3), round(np.sqrt( 0.01**2 + 2*(hC[i]-1/2*(hC[i]+hC[i+1]))**2 + hCHiba[i]**2 + hCHiba[i+1]**2),3))"
   ]
  },
  {
   "cell_type": "code",
   "execution_count": 173,
   "metadata": {},
   "outputs": [
    {
     "name": "stdout",
     "output_type": "stream",
     "text": [
      "Al - Mg 1.45% 3.481 0.191\n",
      "Al 5.186 0.191\n",
      "Cu 2.233 0.192\n",
      "Ni 1.604 0.192\n",
      "Ag 3.298 0.191\n",
      "acél 2.364 0.191\n",
      "Al - 0.47% Mg 4.156 0.192\n",
      "Al - 0.93% Mg 4.056 0.191\n",
      "Al - 1.25% Mg 3.743 0.192\n",
      "Al - 2.7% Mg 3.416 0.191\n",
      "Al - 4.5% Mg 2.878 0.191\n",
      "Al - 7.3% Mg 2.484 0.192\n"
     ]
    }
   ],
   "source": [
    "# h_max, F_max [mikro, N]\n",
    "for i in range(0, 10, 2):\n",
    "    print(nev[int(i/2)], round(1/2*(hMax[i]+hMax[i+1]),3), round(1/2*(fMax[i]+fMax[i+1]),3))\n",
    "print('acél', round(1/3*(hMax[10]+hMax[11]+hMax[12]),3), round(1/3*(fMax[10]+fMax[11]+fMax[12]),3))\n",
    "for i in range(13, 25, 2):\n",
    "    print(nev[int(i/2)], round(1/2*(hMax[i]+hMax[i+1]),3), round(1/2*(fMax[i]+fMax[i+1]),3))"
   ]
  },
  {
   "cell_type": "code",
   "execution_count": 174,
   "metadata": {},
   "outputs": [
    {
     "name": "stdout",
     "output_type": "stream",
     "text": [
      "Al - Mg 1.45% 643.526 32.49\n",
      "Al 290.238 14.497\n",
      "Cu 1568.648 18.718\n",
      "Ni 3041.951 149.04\n",
      "Ag 717.532 5.875\n",
      "acél 1412.266 13.109\n",
      "Al - 0.47% Mg 452.789 12.47\n",
      "Al - 0.93% Mg 473.894 4.664\n",
      "Al - 1.25% Mg 559.97 32.06\n",
      "Al - 2.7% Mg 670.051 26.632\n",
      "Al - 4.5% Mg 944.04 42.294\n",
      "Al - 7.3% Mg 1266.943 14.024\n"
     ]
    }
   ],
   "source": [
    "# HV\n",
    "\n",
    "HV = fMax/felulet\n",
    "feluletHiba = np.sqrt(feluletHiba**2 + (0.01**2*10**-12)**2)\n",
    "errHV = fMax/felulet*(0.001/fMax + feluletHiba/felulet)\n",
    "\n",
    "atlagoltHV = []\n",
    "atlagoltHVerr = []\n",
    "\n",
    "for i in range(0, 10, 2):\n",
    "    atlagoltHV.append(round(1/2*(HV[i]+HV[i+1]),3))\n",
    "    atlagoltHVerr.append(round(np.sqrt(errHV[i]**2 + errHV[i+1]**2 + 2*(1/2*(HV[i]+HV[i+1]) - HV[i])**2 ),3))\n",
    "\n",
    "atlagoltHV.append(round(1/3*(HV[10]+HV[11]+HV[12]),3))\n",
    "atlagoltHVerr.append(round(np.sqrt(errHV[10]**2 + errHV[11]**2 + errHV[12]**2 + 2*(1/2*(HV[i]+HV[i+1]) - HV[i])**2 ),3))\n",
    "\n",
    "for i in range(13, 25, 2):\n",
    "    atlagoltHV.append(round(1/2*(HV[i]+HV[i+1]),3))\n",
    "    atlagoltHVerr.append(round(np.sqrt(errHV[i]**2 + errHV[i+1]**2 + 2*(1/2*(HV[i]+HV[i+1]) - HV[i])**2 ),3))\n",
    "\n",
    "# MPa\n",
    "for i in range(0, len(atlagoltHV)):\n",
    "    print(nev[i], round(atlagoltHV[i]*10**-6,3), round(atlagoltHVerr[i]*10**-6,3))"
   ]
  },
  {
   "cell_type": "code",
   "execution_count": 175,
   "metadata": {},
   "outputs": [
    {
     "name": "stdout",
     "output_type": "stream",
     "text": [
      "Al - Mg 1.45% 297.045 14.7595\n",
      "Al 659.159 32.3497\n",
      "Cu 122.16 0.7216\n",
      "Ni 63.024 2.836\n",
      "Ag 266.478 0.7116\n",
      "acél 137.393 25.7753\n",
      "Al - 0.47% Mg 423.219 9.6766\n",
      "Al - 0.93% Mg 403.038 2.5748\n",
      "Al - 1.25% Mg 343.334 19.4529\n",
      "Al - 2.7% Mg 285.921 10.0875\n",
      "Al - 4.5% Mg 203.027 9.7369\n",
      "Al - 7.3% Mg 151.155 0.7532\n"
     ]
    }
   ],
   "source": [
    "# A - négyzetmikron\n",
    "felulet = felulet * 10**12\n",
    "feluletHiba = feluletHiba * 10**12\n",
    "for i in range(0, 10, 2):\n",
    "    print(nev[int(i/2)], round(1/2*(felulet[i]+felulet[i+1]),3), round(np.sqrt(  feluletHiba[i]**2 + feluletHiba[i+1]**2 + 2*(1/2*(felulet[i]+felulet[i+1]) - felulet[i+1])**2),4))\n",
    "print('acél', round(1/3*(felulet[10]+felulet[11]+felulet[12]),3), round(np.sqrt(feluletHiba[10]**2 + feluletHiba[11]**2 + feluletHiba[12]**2 +  2*(1/2*(felulet[10]+felulet[11]) - felulet[10])**2),4))\n",
    "for i in range(13, 25, 2):\n",
    "    print(nev[int(i/2)], round(1/2*(felulet[i]+felulet[i+1]),3), round(np.sqrt(  feluletHiba[i]**2 + feluletHiba[i+1]**2 +  2*(1/2*(felulet[i]+felulet[i+1]) - felulet[i+1])**2),4))"
   ]
  },
  {
   "cell_type": "code",
   "execution_count": null,
   "metadata": {},
   "outputs": [],
   "source": []
  }
 ],
 "metadata": {
  "kernelspec": {
   "display_name": "Python 3",
   "language": "python",
   "name": "python3"
  },
  "language_info": {
   "codemirror_mode": {
    "name": "ipython",
    "version": 3
   },
   "file_extension": ".py",
   "mimetype": "text/x-python",
   "name": "python",
   "nbconvert_exporter": "python",
   "pygments_lexer": "ipython3",
   "version": "3.6.4"
  }
 },
 "nbformat": 4,
 "nbformat_minor": 2
}
