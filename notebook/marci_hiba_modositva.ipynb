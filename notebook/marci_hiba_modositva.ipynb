{
 "cells": [
  {
   "cell_type": "code",
   "execution_count": 3,
   "metadata": {},
   "outputs": [],
   "source": [
    "import numpy as np\n",
    "#import pandas as pd\n",
    "import scipy.optimize as optimization\n",
    "import matplotlib.pyplot as plt"
   ]
  },
  {
   "cell_type": "code",
   "execution_count": 4,
   "metadata": {},
   "outputs": [],
   "source": [
    "#Mért adatok beolvasása\n",
    "szog = np.array([30.,40.,50.,60.,70.,80.,90.,100.,110.])\n",
    "ch =np.array([8.9730e+01, 82.305,74.374,66.148,60.631,54.489,50.916,46.6247,42.805])\n",
    "ch_err=np.array([3.7380e-01,3.6105e-01,4.2373e-01,4.2954e-01,2.4439e-01,3.3175e-01,3.7857e-01,1.8966e-01,1.9500e-01])"
   ]
  },
  {
   "cell_type": "code",
   "execution_count": 5,
   "metadata": {},
   "outputs": [
    {
     "data": {
      "text/plain": [
       "array([563.82234881, 507.78912626, 452.36646036, 401.58958485,\n",
       "       357.22570959, 319.5971186 , 288.27945277, 262.55172636,\n",
       "       241.64149731])"
      ]
     },
     "execution_count": 5,
     "metadata": {},
     "output_type": "execute_result"
    }
   ],
   "source": [
    "#Elméleti energiák kiszámolása a Compton-formulából\n",
    "def Compton(x):\n",
    "    return (661.659/(1+1.2952*(1-np.cos(x/180*np.pi))))\n",
    "en_th= Compton(szog)\n",
    "en_th"
   ]
  },
  {
   "cell_type": "code",
   "execution_count": 6,
   "metadata": {},
   "outputs": [
    {
     "data": {
      "text/plain": [
       "array([0.14584507, 8.08747901])"
      ]
     },
     "execution_count": 6,
     "metadata": {},
     "output_type": "execute_result"
    },
    {
     "data": {
      "image/png": "[encoded data removed]",
      "text/plain": [
       "<matplotlib.figure.Figure at 0x7fcf60b1eba8>"
      ]
     },
     "metadata": {},
     "output_type": "display_data"
    }
   ],
   "source": [
    "# Kalibrációs egyenes és kalibrációs paraméterek\n",
    "def en_to_ch(x,a,b):\n",
    "    return a*x+b\n",
    "#Fv-illesztés\n",
    "par0=[1,1]\n",
    "par, cov=optimization.curve_fit(en_to_ch,en_th,ch,par0,ch_err)\n",
    "perr=np.sqrt(np.diag(cov))\n",
    "en_scale=np.array(np.linspace(200.,600.,1000))\n",
    "# Kalibráció //Csatronaszám ábrázolása a elméleti-energiák függvényében\n",
    "plt.plot(en_th,ch,'o',en_scale,en_to_ch(en_scale,*par))\n",
    "plt.errorbar(en_th, ch, yerr=ch_err)\n",
    "plt.title('Csatronaszám ábrázolása a elméleti-energiák függvényében')\n",
    "plt.xlabel('Elméleti energiák [keV]')\n",
    "plt.ylabel('Csatornaszám')\n",
    "plt.xlim(200,600)\n",
    "plt.ylim(30,100)\n",
    "plt.grid(1)\n",
    "plt.savefig('Kalib.png')\n",
    "par"
   ]
  },
  {
   "cell_type": "code",
   "execution_count": 7,
   "metadata": {},
   "outputs": [
    {
     "name": "stdout",
     "output_type": "stream",
     "text": [
      "0.0016701411550860102 0.5750509319126788\n",
      "6.8565908327596405 0.07851807530713552\n",
      "-55.4525344486153 4.577902234171909\n"
     ]
    }
   ],
   "source": [
    "b_rel_err=perr[1]/par[1]\n",
    "a_err, b_err = perr\n",
    "print(a_err, b_err)\n",
    "\n",
    "b = par[1]\n",
    "a = par[0]\n",
    "a_rel_err = perr[0]/par[0]\n",
    "\n",
    "b_a_err = b_err/a + b/a**2*a_err #b/a hibája\n",
    "\n",
    "print(1./a, 1/a * a_rel_err)\n",
    "print(-b/a ,b_a_err)\n",
    "\n",
    "\n"
   ]
  },
  {
   "cell_type": "code",
   "execution_count": 8,
   "metadata": {},
   "outputs": [],
   "source": [
    "def ch_to_en(x):\n",
    "    return (x-b)/a"
   ]
  },
  {
   "cell_type": "code",
   "execution_count": 9,
   "metadata": {},
   "outputs": [
    {
     "name": "stdout",
     "output_type": "stream",
     "text": [
      "563.822348808657 559.7893609749073 2.5629936532855537\n",
      "507.78912626424193 508.87917404166694 2.475572120167868\n",
      "452.3664603589117 454.49955214705017 2.9053432335652425\n",
      "401.58958485069195 398.0972359567694 2.945180026303576\n",
      "357.2257095880586 360.2694243324345 1.6756822336181285\n",
      "319.59711859845595 318.15624343762477 2.274674008768011\n",
      "288.2794527710004 293.6576443921746 2.595699591557817\n",
      "262.55172636137087 264.2339561515531 1.3004210173411934\n",
      "241.6414973149238 238.04383614766112 1.33703521238813\n"
     ]
    }
   ],
   "source": [
    "en_meas = ch_to_en(ch)\n",
    "en_meas_err = ch_err /a\n",
    "en_meas_syst_err = np.sqrt((ch_err/a**2*a_err)**2 + b_a_err**2)\n",
    "en_meas_err\n",
    "\n",
    "for i in range(0, en_meas.size):\n",
    "    print(en_th[i], en_meas[i], en_meas_err[i])\n"
   ]
  },
  {
   "cell_type": "code",
   "execution_count": 10,
   "metadata": {},
   "outputs": [
    {
     "name": "stdout",
     "output_type": "stream",
     "text": [
      "[2.47604631 0.19388308 0.53904397 1.40608494 3.29932096 0.40124938\n",
      " 4.29302765 1.67341123 7.24027108]\n"
     ]
    }
   ],
   "source": [
    "eps = 0.0\n",
    "chi_sq = (en_meas - en_th+ eps*en_meas_syst_err)**2/en_meas_err**2\n",
    "chi_sq.sum()\n",
    "\n",
    "print(chi_sq)"
   ]
  },
  {
   "cell_type": "code",
   "execution_count": 31,
   "metadata": {},
   "outputs": [],
   "source": [
    "from scipy.stats import chi2 as chi2"
   ]
  },
  {
   "cell_type": "code",
   "execution_count": 35,
   "metadata": {},
   "outputs": [
    {
     "data": {
      "text/plain": [
       "0.0030692937887331073"
      ]
     },
     "execution_count": 35,
     "metadata": {},
     "output_type": "execute_result"
    }
   ],
   "source": [
    "df=7\n",
    "p = chi2.cdf(chi_sq.sum(), df)\n",
    "conf_lev = 1-p\n",
    "conf_lev"
   ]
  },
  {
   "cell_type": "code",
   "execution_count": 22,
   "metadata": {},
   "outputs": [
    {
     "data": {
      "text/plain": [
       "21.522338598680324"
      ]
     },
     "execution_count": 22,
     "metadata": {},
     "output_type": "execute_result"
    }
   ],
   "source": [
    "chi_sq_inv = (ch - en_to_ch(en_th, a, b))**2/ch_err**2\n",
    "chi_sq_inv.sum()"
   ]
  },
  {
   "cell_type": "code",
   "execution_count": 23,
   "metadata": {},
   "outputs": [
    {
     "data": {
      "text/plain": [
       "array([90.31819141, 82.1460219 , 74.06289907, 66.65734188, 60.1870892 ,\n",
       "       54.69914455, 50.13161724, 46.37935507, 43.32970116])"
      ]
     },
     "execution_count": 23,
     "metadata": {},
     "output_type": "execute_result"
    }
   ],
   "source": [
    "en_to_ch(en_th, a, b)"
   ]
  },
  {
   "cell_type": "code",
   "execution_count": 24,
   "metadata": {},
   "outputs": [
    {
     "data": {
      "text/plain": [
       "array([2.47604631, 0.19388308, 0.53904397, 1.40608494, 3.29932096,\n",
       "       0.40124938, 4.29302765, 1.67341123, 7.24027108])"
      ]
     },
     "execution_count": 24,
     "metadata": {},
     "output_type": "execute_result"
    }
   ],
   "source": [
    "chi_sq_inv"
   ]
  },
  {
   "cell_type": "code",
   "execution_count": 25,
   "metadata": {},
   "outputs": [
    {
     "data": {
      "text/plain": [
       "array([89.73  , 82.305 , 74.374 , 66.148 , 60.631 , 54.489 , 50.916 ,\n",
       "       46.6247, 42.805 ])"
      ]
     },
     "execution_count": 25,
     "metadata": {},
     "output_type": "execute_result"
    }
   ],
   "source": [
    "ch"
   ]
  },
  {
   "cell_type": "code",
   "execution_count": 26,
   "metadata": {},
   "outputs": [
    {
     "data": {
      "text/plain": [
       "array([0.3738 , 0.36105, 0.42373, 0.42954, 0.24439, 0.33175, 0.37857,\n",
       "       0.18966, 0.195  ])"
      ]
     },
     "execution_count": 26,
     "metadata": {},
     "output_type": "execute_result"
    }
   ],
   "source": [
    "ch_err"
   ]
  },
  {
   "cell_type": "code",
   "execution_count": 27,
   "metadata": {},
   "outputs": [
    {
     "data": {
      "text/plain": [
       "array([-0.58819141,  0.1589781 ,  0.31110093, -0.50934188,  0.4439108 ,\n",
       "       -0.21014455,  0.78438276,  0.24534493, -0.52470116])"
      ]
     },
     "execution_count": 27,
     "metadata": {},
     "output_type": "execute_result"
    }
   ],
   "source": [
    "ch-en_to_ch(en_th, a, b)"
   ]
  },
  {
   "cell_type": "code",
   "execution_count": null,
   "metadata": {},
   "outputs": [],
   "source": []
  }
 ],
 "metadata": {
  "kernelspec": {
   "display_name": "Python 3",
   "language": "python",
   "name": "python3"
  },
  "language_info": {
   "codemirror_mode": {
    "name": "ipython",
    "version": 3
   },
   "file_extension": ".py",
   "mimetype": "text/x-python",
   "name": "python",
   "nbconvert_exporter": "python",
   "pygments_lexer": "ipython3",
   "version": "3.6.4"
  }
 },
 "nbformat": 4,
 "nbformat_minor": 2
}
