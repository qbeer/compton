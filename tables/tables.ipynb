{
 "cells": [
  {
   "cell_type": "markdown",
   "metadata": {},
   "source": [
    "Táblázat\n",
    "\n",
    "|szög($^{\\circ}$)|csúcs|szórás|terület|csúcs hiba|szórás hiba|terület hiba|idő(s)|\n",
    "|:------:|---:|-----:|------:|------:|-----:|-----:|------:|------:|--:|\n",
    "|30|8.9730e+01|3.2288e+00|1.6578e+02|3.7380e-01|2.2815e-01|1.1956e+01|1224|\n",
    "|40|8.2305e+01|3.1082e+00|1.7328e+02|3.6105e-01|4.3538e-01|3.4751e+01|1085|\n",
    "|50|7.4374e+01|2.4315e+00|1.2005e+02|4.2373e-01|2.7387e-01|1.2494e+01|1002|\n",
    "|60|6.6148e+01|1.9553e+00|8.4611e+01|4.2954e-01|4.2577e-01|2.5977e+01|962 |\n",
    "|70|6.0478e+01|-2.0372e+00|-1.1208e+02|3.0485e-01|2.8483e-01|1.7696e+01|1166|\n",
    "|80|5.4896e+01|1.5124e+00|8.0768e+01|4.5165e-01|3.2341e-01|1.7983e+01|1100|\n",
    "|90|5.0916e+01|1.6683e+00|9.9523e+01|3.7857e-01|2.6849e-01|1.7898e+01|977 |\n",
    "|100|4.6790e+01|1.5325e+00|1.1006e+02|1.2786e-01|9.4690e-02|8.1924e+00|1113|\n",
    "|110|4.2881e+01|1.8229e+00|1.5467e+02|3.35160e-01|3.1118e-01|4.3591e+01|1098|\n",
    "\n",
    "\n"
   ]
  },
  {
   "cell_type": "code",
   "execution_count": null,
   "metadata": {},
   "outputs": [],
   "source": []
  }
 ],
 "metadata": {
  "kernelspec": {
   "display_name": "Python 3",
   "language": "python",
   "name": "python3"
  },
  "language_info": {
   "codemirror_mode": {
    "name": "ipython",
    "version": 3
   },
   "file_extension": ".py",
   "mimetype": "text/x-python",
   "name": "python",
   "nbconvert_exporter": "python",
   "pygments_lexer": "ipython3",
   "version": "3.6.4"
  }
 },
 "nbformat": 4,
 "nbformat_minor": 2
}
